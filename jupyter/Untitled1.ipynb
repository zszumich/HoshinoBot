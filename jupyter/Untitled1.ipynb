{
 "cells": [
  {
   "cell_type": "code",
   "execution_count": 1,
   "metadata": {},
   "outputs": [],
   "source": [
    "import re\n",
    "import os\n",
    "import time\n",
    "from multiprocessing import Process, Queue\n",
    "import threading\n",
    "from urllib import request, error\n",
    "from tqdm import tqdm\n",
    "import http.client\n",
    "import datetime "
   ]
  },
  {
   "cell_type": "code",
   "execution_count": 2,
   "metadata": {},
   "outputs": [],
   "source": [
    "from gzip import GzipFile\n",
    "from io import StringIO, BytesIO\n",
    "import zlib"
   ]
  },
  {
   "cell_type": "code",
   "execution_count": 3,
   "metadata": {},
   "outputs": [],
   "source": [
    "def gzip(data):\n",
    "    buf = BytesIO(data)\n",
    "    f = GzipFile(fileobj=buf)\n",
    "    return f.read()"
   ]
  },
  {
   "cell_type": "code",
   "execution_count": 38,
   "metadata": {},
   "outputs": [],
   "source": [
    "class spider:\n",
    "    def __init__(self):\n",
    "        self.headers = {'User-Agent': 'Mozilla/5.0 (Windows NT 10.0; WOW64) AppleWebKit/537.36 '\n",
    "                             '(KHTML, like Gecko) Chrome/45.0.2454.101 Safari/537.36',\n",
    "               \"Connection\": \"keep-alive\",\n",
    "               \"Referer\": \"\"}\n",
    "        self.reg_title = re.compile(r'name=\"title\" content=\"(.+?)\\_哔哩哔哩')\n",
    "        self.reg_owner = re.compile(r'\"owner\":{\"mid\":(.+?),\"name\":\"(.+?)\"')\n",
    "        self.url = 'https://www.bilibili.com/video/'\n",
    "        self.reg_avid = r'<meta data-vue-meta=\"true\" itemprop=\"url\" content=\"https://www.bilibili.com/video/av(\\d+)/\">'\n",
    "        self.data_url = 'http://api.bilibili.com/archive_stat/stat?aid='\n",
    "        self.image_reg = re.compile(r'<meta data-vue-meta=\"true\" itemprop=\"image\" content=\"(.+?)\">')\n",
    "        self.image_url = None\n",
    "        \n",
    "    def get_html(self,url):\n",
    "        page1 = request.Request(url, headers = self.headers)\n",
    "        page = request.urlopen(page1)\n",
    "        encoding = page.info().get('Content-Encoding')\n",
    "        html = page.read()\n",
    "        if encoding == 'gzip':\n",
    "            html = gzip(html)\n",
    "        html = html.decode('utf-8')\n",
    "        return(html) \n",
    "    def get_image(self):\n",
    "        req = request.Request(self.image_url,None, self.headers)\n",
    "        timeout = 1000\n",
    "        res = request.urlopen(req, timeout=timeout)\n",
    "        rstream = res.read()\n",
    "        with open('test.jpg','wb') as f:\n",
    "            f.write(rstream)\n",
    "    def get_info(self, bvid):\n",
    "        url = self.url+bvid\n",
    "        html = self.get_html(url)\n",
    "        self.headers['Referer'] = url\n",
    "        title = re.findall(self.reg_title, html)[0]\n",
    "        avid = re.findall(self.reg_avid, html)[0]\n",
    "        wid, owner = re.findall(self.reg_owner,html)[0]\n",
    "        self.image_url = re.findall(self.image_reg, html)[0]\n",
    "        data_url = self.data_url+avid\n",
    "        data = self.get_html(data_url)\n",
    "        data = eval(data)\n",
    "        return(title, avid, self.image_url, owner, data)\n",
    "        #print(encoding)"
   ]
  },
  {
   "cell_type": "code",
   "execution_count": 39,
   "metadata": {},
   "outputs": [],
   "source": [
    "my_spider = spider()"
   ]
  },
  {
   "cell_type": "code",
   "execution_count": 40,
   "metadata": {},
   "outputs": [],
   "source": [
    "bvid = 'BV1uK411n7vT'"
   ]
  },
  {
   "cell_type": "code",
   "execution_count": 41,
   "metadata": {},
   "outputs": [
    {
     "data": {
      "text/plain": [
       "('【公主连结】“海边的美食公主”活动攻略~刷妈建议.注意事项.体力规划.收益分析.刷本建议.Boss打法.阵容推荐~',\n",
       " '499088548',\n",
       " 'http://i2.hdslb.com/bfs/archive/11c78e2f36418cceec776b51f9d6135e2b04e753.jpg',\n",
       " '丸子',\n",
       " {'code': 0,\n",
       "  'message': '0',\n",
       "  'ttl': 1,\n",
       "  'data': {'aid': 499088548,\n",
       "   'view': 462787,\n",
       "   'danmaku': 3072,\n",
       "   'reply': 2190,\n",
       "   'favorite': 6292,\n",
       "   'coin': 16574,\n",
       "   'share': 2621,\n",
       "   'now_rank': 0,\n",
       "   'his_rank': 42,\n",
       "   'like': 38163,\n",
       "   'dislike': 0,\n",
       "   'no_reprint': 1,\n",
       "   'copyright': 1}})"
      ]
     },
     "execution_count": 41,
     "metadata": {},
     "output_type": "execute_result"
    }
   ],
   "source": [
    "my_spider.get_info(bvid)"
   ]
  },
  {
   "cell_type": "code",
   "execution_count": 20,
   "metadata": {},
   "outputs": [],
   "source": [
    "title, avid, image_url, data = my_spider.get_info(bvid)"
   ]
  },
  {
   "cell_type": "code",
   "execution_count": 13,
   "metadata": {},
   "outputs": [
    {
     "name": "stdout",
     "output_type": "stream",
     "text": [
      "标题：【公主连结】“海边的美食公主”活动攻略~刷妈建议.注意事项.体力规划.收益分析.刷本建议.Boss打法.阵容推荐~\n",
      "AV号：499088548\n",
      "BV号：BV1uK411n7vT\n"
     ]
    }
   ],
   "source": [
    "print(\"标题：{0}\\nAV号：{1}\\nBV号：{2}\".format(title,avid,bvid))"
   ]
  },
  {
   "cell_type": "code",
   "execution_count": 21,
   "metadata": {},
   "outputs": [
    {
     "name": "stdout",
     "output_type": "stream",
     "text": [
      "播放量：462737\n",
      "点赞数：38160\n",
      "投币数：16572\n",
      "收藏：6293\n"
     ]
    }
   ],
   "source": [
    "data = data['data']\n",
    "print(\"播放量：{0}\\n点赞数：{1}\\n投币数：{2}\\n收藏：{3}\".format(data[\"view\"],data[\"like\"],data[\"coin\"],data[\"favorite\"]))"
   ]
  },
  {
   "cell_type": "code",
   "execution_count": 8,
   "metadata": {},
   "outputs": [],
   "source": [
    "my_spider.get_image()"
   ]
  },
  {
   "cell_type": "code",
   "execution_count": null,
   "metadata": {},
   "outputs": [],
   "source": [
    "html = my_spider.get_html(url=url)"
   ]
  },
  {
   "cell_type": "code",
   "execution_count": null,
   "metadata": {},
   "outputs": [],
   "source": [
    "print(html)"
   ]
  },
  {
   "cell_type": "code",
   "execution_count": null,
   "metadata": {},
   "outputs": [],
   "source": [
    "reg = re.compile(r'name=\"title\" content=\"(.+?)\\_哔哩哔哩')\n",
    "\n",
    "title = re.findall(reg, html)\n",
    "\n",
    "print(title)"
   ]
  },
  {
   "cell_type": "code",
   "execution_count": null,
   "metadata": {},
   "outputs": [],
   "source": [
    "reg_avid = r'<meta data-vue-meta=\"true\" itemprop=\"url\" content=\"https://www.bilibili.com/video/av(\\d+)/\">'"
   ]
  },
  {
   "cell_type": "code",
   "execution_count": null,
   "metadata": {},
   "outputs": [],
   "source": [
    "times = re.findall(reg_avid, html)"
   ]
  },
  {
   "cell_type": "code",
   "execution_count": null,
   "metadata": {},
   "outputs": [],
   "source": [
    "print(times)"
   ]
  },
  {
   "cell_type": "code",
   "execution_count": null,
   "metadata": {},
   "outputs": [],
   "source": [
    "data_url = 'http://api.bilibili.com/archive_stat/stat?aid='"
   ]
  },
  {
   "cell_type": "code",
   "execution_count": null,
   "metadata": {},
   "outputs": [],
   "source": [
    "new_url = data_url + times[0]\n",
    "print(new_url)"
   ]
  },
  {
   "cell_type": "code",
   "execution_count": null,
   "metadata": {},
   "outputs": [],
   "source": [
    "data = my_spider.get_html(url=new_url)\n",
    "print(data)"
   ]
  },
  {
   "cell_type": "code",
   "execution_count": null,
   "metadata": {},
   "outputs": [],
   "source": [
    "video_data = eval(data)\n",
    "print(video_data)"
   ]
  },
  {
   "cell_type": "code",
   "execution_count": null,
   "metadata": {},
   "outputs": [],
   "source": [
    "image_reg = re.compile(r'<meta data-vue-meta=\"true\" itemprop=\"image\" content=\"(.+?)\">')"
   ]
  },
  {
   "cell_type": "code",
   "execution_count": null,
   "metadata": {},
   "outputs": [],
   "source": [
    "image_url = re.findall(image_reg, html)"
   ]
  },
  {
   "cell_type": "code",
   "execution_count": null,
   "metadata": {},
   "outputs": [],
   "source": [
    "print(image_url)"
   ]
  },
  {
   "cell_type": "code",
   "execution_count": null,
   "metadata": {},
   "outputs": [],
   "source": [
    "image_url = image_url[0]\n",
    "print(image_url)"
   ]
  },
  {
   "cell_type": "code",
   "execution_count": null,
   "metadata": {},
   "outputs": [],
   "source": [
    "headers = {'User-Agent': 'Mozilla/5.0 (Windows NT 10.0; WOW64) AppleWebKit/537.36 '\n",
    "                             '(KHTML, like Gecko) Chrome/45.0.2454.101 Safari/537.36',\n",
    "               \"Connection\": \"keep-alive\",\n",
    "               \"Referer\": \"\"}"
   ]
  },
  {
   "cell_type": "code",
   "execution_count": null,
   "metadata": {},
   "outputs": [],
   "source": [
    "headers['Referer'] = 'https://www.bilibili.com/video/BV1ct411s7fv'\n",
    "print(headers)"
   ]
  },
  {
   "cell_type": "code",
   "execution_count": null,
   "metadata": {},
   "outputs": [],
   "source": [
    "req = request.Request(image_url,None, headers)"
   ]
  },
  {
   "cell_type": "code",
   "execution_count": null,
   "metadata": {},
   "outputs": [],
   "source": [
    "timeout = 1000\n",
    "res = request.urlopen(req, timeout=timeout)\n",
    "rstream = res.read()"
   ]
  },
  {
   "cell_type": "code",
   "execution_count": null,
   "metadata": {},
   "outputs": [],
   "source": [
    "with open('test.jpg','wb') as f:\n",
    "    f.write(rstream)"
   ]
  },
  {
   "cell_type": "code",
   "execution_count": null,
   "metadata": {},
   "outputs": [],
   "source": [
    "datetime.datetime.now()"
   ]
  },
  {
   "cell_type": "code",
   "execution_count": null,
   "metadata": {},
   "outputs": [],
   "source": [
    "date = datetime.datetime.now()"
   ]
  },
  {
   "cell_type": "code",
   "execution_count": null,
   "metadata": {},
   "outputs": [],
   "source": [
    "delta = datetime.timedelta(days=2)"
   ]
  },
  {
   "cell_type": "code",
   "execution_count": null,
   "metadata": {},
   "outputs": [],
   "source": [
    "date =date -delta\n",
    "print(date)"
   ]
  },
  {
   "cell_type": "code",
   "execution_count": null,
   "metadata": {},
   "outputs": [],
   "source": []
  }
 ],
 "metadata": {
  "kernelspec": {
   "display_name": "Python 3",
   "language": "python",
   "name": "python3"
  },
  "language_info": {
   "codemirror_mode": {
    "name": "ipython",
    "version": 3
   },
   "file_extension": ".py",
   "mimetype": "text/x-python",
   "name": "python",
   "nbconvert_exporter": "python",
   "pygments_lexer": "ipython3",
   "version": "3.8.3"
  }
 },
 "nbformat": 4,
 "nbformat_minor": 4
}
