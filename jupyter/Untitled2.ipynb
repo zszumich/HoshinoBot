{
 "cells": [
  {
   "cell_type": "code",
   "execution_count": null,
   "metadata": {},
   "outputs": [],
   "source": [
    "import re\n",
    "import time\n",
    "from multiprocessing import Process, Queue, Pool\n",
    "import threading\n",
    "from urllib import request, error\n",
    "from tqdm import tqdm\n",
    "import http.client\n",
    "import datetime \n",
    "from random import choice\n",
    "import os"
   ]
  },
  {
   "cell_type": "code",
   "execution_count": null,
   "metadata": {},
   "outputs": [],
   "source": [
    "class spider:\n",
    "    def __init__(self):\n",
    "        self.headers = {'User-Agent': 'Mozilla/5.0 (Windows NT 10.0; WOW64) AppleWebKit/537.36 '\n",
    "                             '(KHTML, like Gecko) Chrome/45.0.2454.101 Safari/537.36',\n",
    "               \"Connection\": \"keep-alive\",\n",
    "               \"Referer\": \"\"}\n",
    "    def get_html(self,url):\n",
    "        page1 = request.Request(url, headers = self.headers)\n",
    "        page = request.urlopen(page1)\n",
    "        html = page.read().decode('utf-8')\n",
    "        return(html) "
   ]
  },
  {
   "cell_type": "code",
   "execution_count": null,
   "metadata": {},
   "outputs": [],
   "source": [
    "class pixiv_spider_mp:  #多进程爬虫\n",
    "    def __init__(self,spider, path, new=False, r18 = False):\n",
    "        if(r18):\n",
    "            self.url = \"https://www.pixiv.net/ranking.php?mode=daily_r18&content=illust&p=%d&date=%d%02d%02d\"\n",
    "        else:\n",
    "            self.url = \"https://www.pixiv.net/ranking.php?mode=daily&content=illust&p=%d&date=%d%02d%02d\"\n",
    "        self.date = datetime.datetime.now() - datetime.timedelta(days=2)\n",
    "        if(new):\n",
    "            self.img_reg = re.compile(\n",
    "                r'class=\"new\".+?data-filter=\"thumbnail-filter lazy-image\"data-src=\"(.+?\\.jpg)\"data-type=\"illust\"')\n",
    "        else:\n",
    "            self.img_reg = re.compile(\n",
    "                r'data-filter=\"thumbnail-filter lazy-image\"data-src=\"(.+?\\.jpg)\"data-type=\"illust\"')\n",
    "        self.content_reg = r'<title>#(.*)- pixiv</title>'\n",
    "        self.headers = {'User-Agent': 'Mozilla/5.0 (Windows NT 10.0; WOW64) AppleWebKit/537.36 '\n",
    "                             '(KHTML, like Gecko) Chrome/45.0.2454.101 Safari/537.36',\n",
    "               \"Connection\": \"keep-alive\",\n",
    "               \"Referer\": \"\"}\n",
    "        self.path = path\n",
    "        self.spider = spider\n",
    "    def get_pixiv_id(self, url):\n",
    "        reg = r'.+/(\\d+)_p0'\n",
    "        return re.findall(reg, url)[0]\n",
    "    def get_referer(self, url):\n",
    "        reference = \"https://www.pixiv.net/member_illust.php?mode=medium&illust_id=\"\n",
    "        return reference + self.get_pixiv_id(url)\n",
    "    def save_picture(self, image_url):\n",
    "        path = self.path\n",
    "        spider = self.spider\n",
    "        image_url = image_url.replace('c/240x480/img-master','img-original')\n",
    "        image_url = image_url.replace('_master1200','')\n",
    "        #image_url = image_url.replace('.jpg', '.png')\n",
    "        pixiv_id = self.get_pixiv_id(image_url)\n",
    "        content_url = self.get_referer(image_url)\n",
    "        self.headers['Referer'] = content_url\n",
    "        content_html = spider.get_html(content_url)\n",
    "        file_name = 'pixiv-rank-{0}-{1}-{2}-pid{3}'.format(self.date.year, self.date.month, self.date.day, pixiv_id)\n",
    "        image_title = re.findall(self.content_reg, content_html)\n",
    "        with open(path+'/'+file_name+'.txt','w',encoding='UTF-8') as f:\n",
    "            f.write(image_title[0])\n",
    "        f.close()\n",
    "        try:\n",
    "            timeout = 1000\n",
    "            req = request.Request(image_url,None, self.headers)\n",
    "            res = request.urlopen(req, timeout=timeout)\n",
    "            image_name = file_name+'.jpg'\n",
    "            rstream = res.read()\n",
    "            with open(path+'/'+file_name+'.jpg','wb') as f:\n",
    "                f.write(rstream)\n",
    "        except error.HTTPError:\n",
    "            image_url = image_url.replace('.jpg', '.png')\n",
    "            timeout = 1000\n",
    "            req = request.Request(image_url,None, self.headers)\n",
    "            res = request.urlopen(req, timeout=timeout)\n",
    "            image_name = file_name+'.png'\n",
    "            rstream = res.read()\n",
    "            with open(path+'/'+file_name+'.png','wb') as f:\n",
    "                f.write(rstream)\n",
    "        print(image_name)\n",
    "        \n",
    "    def save_image_name(self, image_urls):\n",
    "        path = self.path\n",
    "        num_image = len(image_urls)\n",
    "        file = open(path+'/record.txt','a')\n",
    "        for i in range(0,num_image):\n",
    "            image_url = image_urls[i]\n",
    "            pixiv_id = self.get_pixiv_id(image_url)\n",
    "            file_name = 'pixiv-rank-{0}-{1}-{2}-pid{3}'.format(self.date.year, self.date.month, self.date.day, pixiv_id)\n",
    "            file.write(file_name+'\\n')\n",
    "        file.close()\n",
    "        \n",
    "        \n",
    "    def get_pictures(self, page):\n",
    "        spider = self.spider\n",
    "        path = self.path\n",
    "        url = self.url%(page,self.date.year, self.date.month, self.date.day)\n",
    "        html = spider.get_html(url)\n",
    "        image_urls = re.findall(self.img_reg, html)\n",
    "        num_image = len(image_urls)\n",
    "        print(\"get {0} images on page {1}\".format(num_image, page))\n",
    "        self.save_image_name(image_urls)\n",
    "        pool = Pool()\n",
    "        pool.map(self.save_picture, image_urls) #多线程爬虫\n",
    "        pool.close()\n",
    "        pool.join()\n",
    "        #for i in range(0,num_image):\n",
    "            #image_url = image_urls[i]\n",
    "            #self.save_picture(image_url)  #单线程模式\n",
    "        \n",
    "        return(num_image)"
   ]
  },
  {
   "cell_type": "code",
   "execution_count": null,
   "metadata": {},
   "outputs": [],
   "source": [
    "def mkdir(path):\n",
    "    folder = os.path.exists(path)\n",
    "    if not folder:\n",
    "        os.makedirs(path)"
   ]
  },
  {
   "cell_type": "code",
   "execution_count": null,
   "metadata": {},
   "outputs": [],
   "source": [
    "my_spider = spider()\n",
    "        #my_pixiv_spider = pixiv_spider(new=True)\n",
    "date = datetime.datetime.now() - datetime.timedelta(days=2)\n",
    "path = '../res/img/pixiv/%02d%02d'%(date.month,date.day)\n",
    "print(path)"
   ]
  },
  {
   "cell_type": "code",
   "execution_count": null,
   "metadata": {},
   "outputs": [],
   "source": [
    "mkdir(path)\n",
    "my_pixiv_spider = pixiv_spider_mp(spider = my_spider, path = path, new = True, r18 = False)"
   ]
  },
  {
   "cell_type": "code",
   "execution_count": null,
   "metadata": {},
   "outputs": [],
   "source": [
    "num_img = 0\n",
    "for i in range(1,4):\n",
    "    num_img = num_img + my_pixiv_spider.get_pictures(i)"
   ]
  },
  {
   "cell_type": "code",
   "execution_count": null,
   "metadata": {},
   "outputs": [],
   "source": [
    "my_pixiv_spider.get_pictures(2)"
   ]
  },
  {
   "cell_type": "code",
   "execution_count": null,
   "metadata": {},
   "outputs": [],
   "source": []
  }
 ],
 "metadata": {
  "kernelspec": {
   "display_name": "Python 3",
   "language": "python",
   "name": "python3"
  },
  "language_info": {
   "codemirror_mode": {
    "name": "ipython",
    "version": 3
   },
   "file_extension": ".py",
   "mimetype": "text/x-python",
   "name": "python",
   "nbconvert_exporter": "python",
   "pygments_lexer": "ipython3",
   "version": "3.8.3"
  }
 },
 "nbformat": 4,
 "nbformat_minor": 4
}
