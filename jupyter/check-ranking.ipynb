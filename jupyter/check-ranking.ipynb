{
 "cells": [
  {
   "cell_type": "code",
   "execution_count": 1,
   "metadata": {},
   "outputs": [],
   "source": [
    "import re\n",
    "import os\n",
    "import time\n",
    "from multiprocessing import Process, Queue\n",
    "import threading\n",
    "from urllib import request, error, parse\n",
    "import requests\n",
    "from tqdm import tqdm\n",
    "import http.client\n",
    "import datetime \n",
    "import json"
   ]
  },
  {
   "cell_type": "code",
   "execution_count": 2,
   "metadata": {},
   "outputs": [],
   "source": [
    "from gzip import GzipFile\n",
    "from io import StringIO, BytesIO\n",
    "import zlib"
   ]
  },
  {
   "cell_type": "code",
   "execution_count": 3,
   "metadata": {},
   "outputs": [],
   "source": [
    "class rank_spider:\n",
    "    def __init__(self):\n",
    "        self.headers = {\"Custom-Source\":\"GitHub@zszumich\",\"Content-Type\": \"application/json\",\"Referer\": \"https://kengxxiao.github.io/Kyouka/\"}\n",
    "        self.url = 'https://service-kjcbcnmw-1254119946.gz.apigw.tencentcs.com/'\n",
    "        self.payload = {'history':'0'}\n",
    "    def get_data(self, check_type, refer):\n",
    "        payload = self.payload\n",
    "        url = self.url\n",
    "        if(check_type == 'name'):\n",
    "            payload['clanName'] = refer\n",
    "            url = url+'name/0'\n",
    "        if(check_type == 'rank'):\n",
    "            url = url+'/rank/{0}'.format(refer)\n",
    "        if(check_type == 'leader'):\n",
    "            url = url+'/leader/0'\n",
    "            payload['leaderName'] = refer\n",
    "            \n",
    "        data = requests.post(url, data = json.dumps(payload), headers = self.headers)\n",
    "        data = json.loads(data.text)\n",
    "        return(data)\n",
    "        "
   ]
  },
  {
   "cell_type": "code",
   "execution_count": 4,
   "metadata": {},
   "outputs": [],
   "source": [
    "my_spider = rank_spider()"
   ]
  },
  {
   "cell_type": "code",
   "execution_count": 5,
   "metadata": {},
   "outputs": [],
   "source": [
    "html = my_spider.get_data('leader','高坂丽奈')"
   ]
  },
  {
   "cell_type": "code",
   "execution_count": 6,
   "metadata": {},
   "outputs": [
    {
     "name": "stdout",
     "output_type": "stream",
     "text": [
      "{'code': 0, 'msg': '', 'data': [{'rank': 8486, 'damage': 17237327, 'clan_name': '优花梨的小屋', 'leader_name': '高坂丽奈', 'leader_viewer_id': 1365627307506}], 'ts': 0, 'full': 1}\n"
     ]
    }
   ],
   "source": [
    "print(html)"
   ]
  },
  {
   "cell_type": "code",
   "execution_count": 7,
   "metadata": {},
   "outputs": [],
   "source": [
    "def check_rank_score(spider, rank):\n",
    "    data = spider.get_data('rank', rank)\n",
    "    score = data['data'][0]['damage']\n",
    "    return(score)"
   ]
  },
  {
   "cell_type": "code",
   "execution_count": 8,
   "metadata": {},
   "outputs": [
    {
     "name": "stdout",
     "output_type": "stream",
     "text": [
      "25653461\n"
     ]
    }
   ],
   "source": [
    "score = check_rank_score(my_spider, 2800)\n",
    "print(score)"
   ]
  },
  {
   "cell_type": "code",
   "execution_count": 9,
   "metadata": {},
   "outputs": [],
   "source": [
    "def check_rank(rank):\n",
    "    rank_list = [1,3,10,20,50,200,600,1200,2800,5000,10000,15000,25000,40000,60000]\n",
    "    rank_list = [x for x in rank_list if x <= rank]\n",
    "    close_rank = rank_list[-1]\n",
    "    return(close_rank)\n",
    "        "
   ]
  },
  {
   "cell_type": "code",
   "execution_count": 10,
   "metadata": {},
   "outputs": [
    {
     "data": {
      "text/plain": [
       "10"
      ]
     },
     "execution_count": 10,
     "metadata": {},
     "output_type": "execute_result"
    }
   ],
   "source": [
    "check_rank(10)"
   ]
  },
  {
   "cell_type": "code",
   "execution_count": 11,
   "metadata": {},
   "outputs": [],
   "source": [
    "def check_status(score):\n",
    "    score_ratio = [[1, 1, 1.1, 1.1, 1.2],[1.2, 1.2, 1.5, 1.7, 2]]\n",
    "    boss_hp = [[6000000, 8000000, 10000000, 12000000, 20000000],[6000000, 8000000, 10000000, 12000000, 20000000]]\n",
    "    num_epoch = 2\n",
    "    num_boss = len(boss_hp[0])\n",
    "    damage = 0\n",
    "    score_c = 0\n",
    "    count_c = 0\n",
    "    count_b = 0\n",
    "    final_damage = 0\n",
    "    res_damage = 0\n",
    "    temp = '{0}周目{1}王,进度{2}%'\n",
    "    while(score_c < score):\n",
    "        count_b = 0\n",
    "        while(score_c < score):\n",
    "            final_damage = damage\n",
    "            if(count_c < num_epoch-1):\n",
    "                damage = damage + boss_hp[count_c][count_b]\n",
    "                score_c = score_c + boss_hp[count_c][count_b]*score_ratio[count_c][count_b]\n",
    "            else:\n",
    "                damage = damage + boss_hp[num_epoch-1][count_b]\n",
    "                score_c = score_c + boss_hp[num_epoch-1][count_b]*score_ratio[num_epoch-1][count_b]\n",
    "            if(score_c > score):\n",
    "                break\n",
    "            else:\n",
    "                final_damage = damage\n",
    "                count_b = count_b + 1\n",
    "            if(count_b == num_boss):\n",
    "                break\n",
    "        if(score_c > score):\n",
    "            break\n",
    "        count_c = count_c + 1\n",
    "    remain_score = score_c - score\n",
    "    if(count_c < num_epoch-1):\n",
    "        remain_damage = remain_score/score_ratio[count_c][count_b]\n",
    "        process = int((boss_hp[count_c][count_b]-remain_damage)/boss_hp[count_c][count_b]*100)\n",
    "    else:\n",
    "        remain_damage = remain_score/score_ratio[num_epoch-1][count_b]\n",
    "        process = int((boss_hp[num_epoch-1][count_b]-remain_damage)/boss_hp[num_epoch-1][count_b]*100)\n",
    "    result = temp.format(count_c+1, count_b+1, process)\n",
    "    return(result)\n",
    "        "
   ]
  },
  {
   "cell_type": "code",
   "execution_count": 61,
   "metadata": {},
   "outputs": [
    {
     "data": {
      "text/plain": [
       "'10周目2王,进度42%'"
      ]
     },
     "execution_count": 61,
     "metadata": {},
     "output_type": "execute_result"
    }
   ],
   "source": [
    "check_status(811099339)"
   ]
  },
  {
   "cell_type": "code",
   "execution_count": 12,
   "metadata": {},
   "outputs": [],
   "source": [
    "def check_hanghui(name):\n",
    "    result = '数据来自:https://kengxxiao.github.io/Kyouka/\\n'\n",
    "    my_spider = rank_spider()\n",
    "    data = my_spider.get_data('name',name)\n",
    "    template ='公会名称: {0}\\n会长:{1}\\n会长ID:{2}\\n会战分数:{3}\\n排名:{4}\\n进度:{5}\\n距档线{6}相差分数:{7}\\n'\n",
    "    if(data['full'] == 0):\n",
    "        temp = '无法查询到此工会'\n",
    "        result = result+temp\n",
    "    else:\n",
    "        for data_t in data['data']:\n",
    "            temp = template\n",
    "            score = data_t['damage']\n",
    "            rank = data_t['rank']\n",
    "            dang_xian = check_rank(rank)\n",
    "            rank_score = check_rank_score(my_spider, dang_xian)\n",
    "            score_diff = rank_score - score\n",
    "            process = check_status(score)\n",
    "            temp = temp.format(data_t['clan_name'],data_t['leader_name'],data_t['leader_viewer_id'],score,rank,process,\n",
    "                              dang_xian)\n",
    "            result = result+temp+'\\n'\n",
    "        \n",
    "    return(result)\n",
    "            "
   ]
  },
  {
   "cell_type": "code",
   "execution_count": 13,
   "metadata": {},
   "outputs": [
    {
     "ename": "IndexError",
     "evalue": "Replacement index 7 out of range for positional args tuple",
     "output_type": "error",
     "traceback": [
      "\u001b[0;31m---------------------------------------------------------------------------\u001b[0m",
      "\u001b[0;31mIndexError\u001b[0m                                Traceback (most recent call last)",
      "\u001b[0;32m<ipython-input-13-75205f11c54c>\u001b[0m in \u001b[0;36m<module>\u001b[0;34m\u001b[0m\n\u001b[0;32m----> 1\u001b[0;31m \u001b[0mresult\u001b[0m \u001b[0;34m=\u001b[0m \u001b[0mcheck_hanghui\u001b[0m\u001b[0;34m(\u001b[0m\u001b[0;34m'胖达团'\u001b[0m\u001b[0;34m)\u001b[0m\u001b[0;34m\u001b[0m\u001b[0;34m\u001b[0m\u001b[0m\n\u001b[0m",
      "\u001b[0;32m<ipython-input-12-b01d0f2ec3eb>\u001b[0m in \u001b[0;36mcheck_hanghui\u001b[0;34m(name)\u001b[0m\n\u001b[1;32m     16\u001b[0m             \u001b[0mscore_diff\u001b[0m \u001b[0;34m=\u001b[0m \u001b[0mrank_score\u001b[0m \u001b[0;34m-\u001b[0m \u001b[0mscore\u001b[0m\u001b[0;34m\u001b[0m\u001b[0;34m\u001b[0m\u001b[0m\n\u001b[1;32m     17\u001b[0m             \u001b[0mprocess\u001b[0m \u001b[0;34m=\u001b[0m \u001b[0mcheck_status\u001b[0m\u001b[0;34m(\u001b[0m\u001b[0mscore\u001b[0m\u001b[0;34m)\u001b[0m\u001b[0;34m\u001b[0m\u001b[0;34m\u001b[0m\u001b[0m\n\u001b[0;32m---> 18\u001b[0;31m             temp = temp.format(data_t['clan_name'],data_t['leader_name'],data_t['leader_viewer_id'],score,rank,process,\n\u001b[0m\u001b[1;32m     19\u001b[0m                               dang_xian)\n\u001b[1;32m     20\u001b[0m             \u001b[0mresult\u001b[0m \u001b[0;34m=\u001b[0m \u001b[0mresult\u001b[0m\u001b[0;34m+\u001b[0m\u001b[0mtemp\u001b[0m\u001b[0;34m+\u001b[0m\u001b[0;34m'\\n'\u001b[0m\u001b[0;34m\u001b[0m\u001b[0;34m\u001b[0m\u001b[0m\n",
      "\u001b[0;31mIndexError\u001b[0m: Replacement index 7 out of range for positional args tuple"
     ]
    }
   ],
   "source": [
    "result = check_hanghui('胖达团')"
   ]
  },
  {
   "cell_type": "code",
   "execution_count": null,
   "metadata": {},
   "outputs": [],
   "source": [
    "print(result)"
   ]
  },
  {
   "cell_type": "code",
   "execution_count": 86,
   "metadata": {},
   "outputs": [],
   "source": [
    "net_east = ['“生而为人,我很抱歉”','“日推到这首歌的人一定很温柔吧”','“我认识的很多,但我的朋友很少','“陌生人,如果你刷到这条评论就睡吧',\n",
    "           '“老师讲什么都听不懂了,好想放弃”','“我喜欢你，从满心欢喜到满目疮疾”','“这么晚还在听歌的人,你一定也很寂寞吧”',\n",
    "           '“温柔吗,拿命换的”','“自己有多伤心,歌单知道,枕头知道,你不知道”','“舔了三年,她终究还是离开了我','“你说爱情要两情相悦,否则,所有的喜欢都是心酸”',\n",
    "           '“我是两个孩子的父亲…','“《人间失格》里有这样一句话：仅一夜之间，我的心判若两人。他自人山人海中来，原来只为给我一场空欢喜。你来时携风带雨，我无处可避；你走时乱了四季，我久病难医”',\n",
    "           '“是什么原因让你来听这首歌啊”','“这歌真正听懂的时候一定很悲伤吧”','“我通过了你的好友请求，现在我们可以开始聊天',\n",
    "           '“你走以后……”','“我今天失恋了，陌生人能给我点个赞吗？”','“教堂的白鸽不会亲吻乌鸦”','“我说下雨了，不是指天气”','“今年12岁，重度抑郁症20年了”',\n",
    "           '“妈妈在我出生前就走了”','“现实里没有任何一个人理我”','“今天看了看，30楼好像也不高。。。”','“人间不值得”','“人间真好，下次不来了”',\n",
    "           '“我今年17岁，出意外的话明年18岁，不出意外的话我将永远17岁…”','你也只活了一次，凭什么说我选择的人生是错的。','你爱过一个人吗？从满心欢喜到满目疮痍······',\n",
    "           '考研可能也失败了，妈妈明天因为心脏有问题要去看，继父不管，我亲爹关机不敢接我电话，那些亲人除了我阿姨在为我们东奔西跑，我才23岁了我承受了那么多，听着这首歌会哭的',\n",
    "           '重度抑郁啦，不能给家里添麻烦，不买药啦，自己百度怎么缓解情绪。不告诉朋友啦，因为无从开口，平时我都是逗他们开心的。不告诉男朋友啦，\"','爸爸在年前查出肺腺癌晚期，一切来的太突然，本来就不富裕的家庭更是雪上加霜，经常看到妈妈夜里擦眼泪，可我到底还是高一学生，分担不了家庭负担，只能好好学习，不知道爸爸还能陪我多久，我真的好爱我的家庭，好爱爸爸和妈妈。',\n",
    "           '现在已经五年级下册了，老师讲的内容什么也听不进去，成绩也越来越差了，原本想好好努力的，结果没过几天就不想学了，我该怎么办呐',\n",
    "           '我抑郁症了，我温柔吗，半条命换的快来安慰我我快高考了，赶紧鼓励我','我倒数第一，语文零分，数学零分，英语全是选择题，我成功的错过了所有正确答案。2020我中考，完全没希望······',\n",
    "           '今年经历太多了，被绿了，被骗2500元，疫情，亲人去世，父母离婚，考试取消，抑郁症复发，控制不住自己的情绪，我也好想爱这个世界啊，我才十几岁我可以的！',\n",
    "           '五年没有联系的前任，结婚了生了孩子，是我们一直想要的女儿，名字竟然也是我取的,但姓不一样了。','我的爷爷得了冠状病毒，我的生活到了谷底。但是我要坚强，勇敢向前看，迎接我的未来，我的生活。阿门！祝我爷爷康复[可爱][流泪][流泪]',\n",
    "           '我愛的是位男生，我卻也是一位男生，我的人生，還能成人生嗎?','大四了，工作没着落，没有爱的人，未来不知道去哪，不知道有多少人和我一样，好像渐渐失去直觉，失去了爱人的勇气。好想大声哭一场。我是真的需要个方向啊，更需要人陪。',\n",
    "           '我逃了很久 拒绝过很多人 直到遇见你 我开始动摇 相信所谓的苦尽甘来 后来才发现你也不爱我','我讨厌圈钱的女孩子，可是如果是你，我更讨厌没钱的自己','他不在对岸 我也不够勇敢',\n",
    "           '磨脚的鞋子我不会穿第二次，剪坏我头发的理发店，我不会去第二次，可是就是那个不适合我的人我爱了不止一次',\n",
    "           '你说什么最难熬，是漫漫长夜，还是两月三年，是两人相爱的不能见面，还是你爱的人不爱你','“《人间失格》里有这样一句话：“若能避开猛烈的欢喜，自然也不会有悲痛的来袭。””',\n",
    "           '“你回信息速度越来越慢，和我说话越来越少，我就知道你要走了”','“我有那么多奇妙的能力 却留不住你”','“这么晚还在听歌的人,你一定也很寂寞吧“',\n",
    "           '“那些看似没有听懂的回应，大概就是再委婉不过的拒绝”','“《人间失格》里有这么一句话：‘你在此地不要走动，我去给你买袋橘子。’”']"
   ]
  },
  {
   "cell_type": "code",
   "execution_count": 87,
   "metadata": {},
   "outputs": [
    {
     "name": "stdout",
     "output_type": "stream",
     "text": [
      "51\n"
     ]
    }
   ],
   "source": [
    "print(len(net_east))"
   ]
  },
  {
   "cell_type": "code",
   "execution_count": 88,
   "metadata": {},
   "outputs": [],
   "source": [
    "import random"
   ]
  },
  {
   "cell_type": "code",
   "execution_count": 92,
   "metadata": {},
   "outputs": [
    {
     "name": "stdout",
     "output_type": "stream",
     "text": [
      "“现实里没有任何一个人理我”\n"
     ]
    }
   ],
   "source": [
    "t = random.choice(net_east)\n",
    "print(t)"
   ]
  },
  {
   "cell_type": "code",
   "execution_count": null,
   "metadata": {},
   "outputs": [],
   "source": []
  }
 ],
 "metadata": {
  "kernelspec": {
   "display_name": "Python 3",
   "language": "python",
   "name": "python3"
  },
  "language_info": {
   "codemirror_mode": {
    "name": "ipython",
    "version": 3
   },
   "file_extension": ".py",
   "mimetype": "text/x-python",
   "name": "python",
   "nbconvert_exporter": "python",
   "pygments_lexer": "ipython3",
   "version": "3.8.3"
  }
 },
 "nbformat": 4,
 "nbformat_minor": 4
}
